{
 "cells": [
  {
   "cell_type": "markdown",
   "id": "killing-amsterdam",
   "metadata": {},
   "source": [
    "# visualize-timeseries-runchart"
   ]
  },
  {
   "cell_type": "markdown",
   "id": "f3cba135-fe00-45b1-b69d-163019e7c820",
   "metadata": {},
   "source": [
    "Plots a run chart of a time series (x time, y value)"
   ]
  },
  {
   "cell_type": "code",
   "execution_count": null,
   "id": "tribal-newcastle",
   "metadata": {},
   "outputs": [],
   "source": [
    "!pip3 install pandas==1.3.2 wget==3.2"
   ]
  },
  {
   "cell_type": "code",
   "execution_count": null,
   "id": "21cf7fd5-42bd-45d7-b30f-401892d56766",
   "metadata": {},
   "outputs": [],
   "source": [
    "import wget\n",
    "wget.download(\n",
    "    'https://raw.githubusercontent.com/IBM/claimed/master/component-library/claimed_utils.py'\n",
    ")"
   ]
  },
  {
   "cell_type": "code",
   "execution_count": 8,
   "id": "informed-bonus",
   "metadata": {},
   "outputs": [],
   "source": [
    "from claimed_utils import parse_args_to_parameters\n",
    "import os\n",
    "import pandas as pd\n",
    "import json\n",
    "import re\n",
    "import sys"
   ]
  },
  {
   "cell_type": "code",
   "execution_count": 4,
   "id": "encouraging-islam",
   "metadata": {},
   "outputs": [],
   "source": [
    "# CSV file to visualize\n",
    "data_csv = os.environ.get('data_csv','data.csv')\n",
    "\n",
    "# x - axis column name\n",
    "x_column = os.environ.get('x_column')\n",
    "\n",
    "# y - axis column name\n",
    "y_column = os.environ.get('y_column')\n",
    "\n",
    "# temporal data storage for local execution\n",
    "data_dir = os.environ.get('data_dir', '../../data/')\n",
    "\n",
    "parse_args_to_parameters()"
   ]
  },
  {
   "cell_type": "code",
   "execution_count": 5,
   "id": "systematic-aruba",
   "metadata": {},
   "outputs": [],
   "source": [
    "df = pd.read_csv(data_dir + data_csv)"
   ]
  },
  {
   "cell_type": "code",
   "execution_count": 6,
   "id": "devoted-advertising",
   "metadata": {},
   "outputs": [
    {
     "data": {
      "text/plain": [
       "<AxesSubplot:>"
      ]
     },
     "execution_count": 6,
     "metadata": {},
     "output_type": "execute_result"
    },
    {
     "data": {
      "image/png": "[encoded data removed]",
      "text/plain": [
       "<Figure size 432x288 with 1 Axes>"
      ]
     },
     "metadata": {
      "needs_background": "light"
     },
     "output_type": "display_data"
    }
   ],
   "source": [
    "df.plot(x = x_column, y = y_column)"
   ]
  },
  {
   "cell_type": "code",
   "execution_count": 10,
   "id": "d479c7d3-0f2c-4188-8100-63c4c5ffa5c6",
   "metadata": {},
   "outputs": [],
   "source": [
    "metadata = {\"outputs\": [{\"storage\": \"inline\", \"source\": \"# TEST AUC:xxxxxx \\n\\n#GBDT AUC:xxxxxxx\", \"type\": \"markdown\"}]}\n",
    "metadata = json.dumps(metadata)\n",
    "with open(\"/mlpipeline-ui-metadata.json\", \"w\") as text_file:\n",
    "    text_file.write(metadata)"
   ]
  }
 ],
 "metadata": {
  "kernelspec": {
   "display_name": "Python 3 (ipykernel)",
   "language": "python",
   "name": "python3"
  },
  "language_info": {
   "codemirror_mode": {
    "name": "ipython",
    "version": 3
   },
   "file_extension": ".py",
   "mimetype": "text/x-python",
   "name": "python",
   "nbconvert_exporter": "python",
   "pygments_lexer": "ipython3",
   "version": "3.8.10"
  }
 },
 "nbformat": 4,
 "nbformat_minor": 5
}
