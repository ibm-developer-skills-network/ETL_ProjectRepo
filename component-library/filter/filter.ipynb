{
 "cells": [
  {
   "cell_type": "markdown",
   "id": "arabic-honey",
   "metadata": {},
   "source": [
    "# Filters rows based on predicate on pandas data frame\n",
    "Example \"predicate=~metadata.filename.str.contains('.gz') \" => filters all rows where column \"filename\" contains '.gz\""
   ]
  },
  {
   "cell_type": "code",
   "execution_count": null,
   "id": "fabulous-israeli",
   "metadata": {},
   "outputs": [],
   "source": [
    "# @param predicate (as described in documentation of the component)\n",
    "# @param file_name csv file name"
   ]
  },
  {
   "cell_type": "code",
   "execution_count": null,
   "id": "upset-affair",
   "metadata": {},
   "outputs": [],
   "source": [
    "import os\n",
    "predicate = os.environ.get('predicate')\n",
    "file_name = os.environ.get('file_name', 'metadata.csv')"
   ]
  },
  {
   "cell_type": "code",
   "execution_count": null,
   "id": "incomplete-monkey",
   "metadata": {},
   "outputs": [],
   "source": [
    "!pip3 install pandas==1.2.1"
   ]
  },
  {
   "cell_type": "code",
   "execution_count": null,
   "id": "auburn-wonder",
   "metadata": {},
   "outputs": [],
   "source": [
    "import pandas as pd"
   ]
  },
  {
   "cell_type": "code",
   "execution_count": null,
   "id": "atmospheric-mauritius",
   "metadata": {},
   "outputs": [],
   "source": [
    "metadata = pd.read_csv(file_name)"
   ]
  },
  {
   "cell_type": "code",
   "execution_count": null,
   "id": "excellent-conference",
   "metadata": {},
   "outputs": [],
   "source": [
    "exec('metadata = metadata[' + predicate + ']')"
   ]
  },
  {
   "cell_type": "code",
   "execution_count": null,
   "id": "parental-dialogue",
   "metadata": {},
   "outputs": [],
   "source": [
    "metadata.to_csv(file_name, index=False)"
   ]
  }
 ],
 "metadata": {
  "kernelspec": {
   "display_name": "Python 3",
   "language": "python",
   "name": "python3"
  },
  "language_info": {
   "codemirror_mode": {
    "name": "ipython",
    "version": 3
   },
   "file_extension": ".py",
   "mimetype": "text/x-python",
   "name": "python",
   "nbconvert_exporter": "python",
   "pygments_lexer": "ipython3",
   "version": "3.8.6"
  }
 },
 "nbformat": 4,
 "nbformat_minor": 5
}
