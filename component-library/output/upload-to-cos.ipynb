{
 "cells": [
  {
   "cell_type": "markdown",
   "id": "53af08cf-0149-4369-93d6-fba2203ec6cc",
   "metadata": {},
   "source": [
    "# Upload to Cloud Object Storage COS\n",
    "\n",
    "Uploads a file to any S3 compliant Cloud Object Storage"
   ]
  },
  {
   "cell_type": "code",
   "execution_count": null,
   "id": "05a6d935-38c5-49df-9df2-fbc8c31c4634",
   "metadata": {},
   "outputs": [],
   "source": [
    "!pip install s3fs==2021.7.0"
   ]
  },
  {
   "cell_type": "code",
   "execution_count": 2,
   "id": "85859764-8fd2-4394-88d6-b3c54194b868",
   "metadata": {},
   "outputs": [],
   "source": [
    "import os\n",
    "import sys\n",
    "import re\n",
    "import s3fs"
   ]
  },
  {
   "cell_type": "code",
   "execution_count": 3,
   "id": "a8069e66-fad7-4be9-bc6f-b9eaa119b3bc",
   "metadata": {},
   "outputs": [],
   "source": [
    "access_key_id = os.environ.get('access_key_id')\n",
    "secret_access_key = os.environ.get('secret_access_key')\n",
    "endpoint = os.environ.get('endpoint')\n",
    "bucket_name = os.environ.get('bucket_name')\n",
    "source_file = os.environ.get('source_file')\n",
    "destination_file = os.environ.get('destination_file')\n",
    "data_dir = os.environ.get('data_dir', '../../data/')"
   ]
  },
  {
   "cell_type": "code",
   "execution_count": 4,
   "id": "ad8bf902-7582-445b-aea1-a9ce869532ee",
   "metadata": {},
   "outputs": [],
   "source": [
    "# override parameters received from a potential call using %run magic\n",
    "parameters = list(\n",
    "    map(\n",
    "        lambda s: re.sub('$', '\"', s),\n",
    "        map(\n",
    "            lambda s: s.replace('=', '=\"'),\n",
    "            filter(\n",
    "                lambda s: s.find('=') > -1,\n",
    "                sys.argv\n",
    "            )\n",
    "        )\n",
    "    )\n",
    ")\n",
    "\n",
    "for parameter in parameters:\n",
    "    exec(parameter)"
   ]
  },
  {
   "cell_type": "code",
   "execution_count": null,
   "id": "704117f6-702d-43ee-9092-201c46b31e15",
   "metadata": {},
   "outputs": [],
   "source": [
    "s3 = s3fs.S3FileSystem(\n",
    "    anon=False,\n",
    "    key=access_key_id,\n",
    "    secret=secret_access_key,\n",
    "    client_kwargs={'endpoint_url': endpoint}\n",
    ")"
   ]
  },
  {
   "cell_type": "code",
   "execution_count": null,
   "id": "60436d8a-f461-4723-abeb-cc22b555c782",
   "metadata": {},
   "outputs": [],
   "source": [
    "s3.put(data_dir + source_file, bucket_name + '/' + destination_file)"
   ]
  }
 ],
 "metadata": {
  "kernelspec": {
   "display_name": "Python 3 (ipykernel)",
   "language": "python",
   "name": "python3"
  },
  "language_info": {
   "codemirror_mode": {
    "name": "ipython",
    "version": 3
   },
   "file_extension": ".py",
   "mimetype": "text/x-python",
   "name": "python",
   "nbconvert_exporter": "python",
   "pygments_lexer": "ipython3",
   "version": "3.8.10"
  }
 },
 "nbformat": 4,
 "nbformat_minor": 5
}
