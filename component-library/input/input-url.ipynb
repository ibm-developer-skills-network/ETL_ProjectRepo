{
 "cells": [
  {
   "cell_type": "markdown",
   "id": "d00fc083",
   "metadata": {
    "papermill": {
     "duration": 0.005973,
     "end_time": "2021-09-03T13:32:01.690848",
     "exception": false,
     "start_time": "2021-09-03T13:32:01.684875",
     "status": "completed"
    },
    "tags": []
   },
   "source": [
    "# Input URL"
   ]
  },
  {
   "cell_type": "markdown",
   "id": "645dc2c4",
   "metadata": {
    "papermill": {
     "duration": 0.005433,
     "end_time": "2021-09-03T13:32:01.701844",
     "exception": false,
     "start_time": "2021-09-03T13:32:01.696411",
     "status": "completed"
    },
    "tags": []
   },
   "source": [
    "This component reads a file from a HTTP(s) source via wget"
   ]
  },
  {
   "cell_type": "code",
   "execution_count": null,
   "id": "4e59fe38",
   "metadata": {
    "papermill": {
     "duration": 2.806151,
     "end_time": "2021-09-03T13:32:04.513591",
     "exception": false,
     "start_time": "2021-09-03T13:32:01.707440",
     "status": "completed"
    },
    "tags": []
   },
   "outputs": [],
   "source": [
    "!pip install wget==3.2"
   ]
  },
  {
   "cell_type": "code",
   "execution_count": null,
   "id": "054a358d",
   "metadata": {
    "papermill": {
     "duration": 0.359649,
     "end_time": "2021-09-03T13:32:04.879262",
     "exception": false,
     "start_time": "2021-09-03T13:32:04.519613",
     "status": "completed"
    },
    "tags": []
   },
   "outputs": [],
   "source": [
    "import wget\n",
    "wget.download(\n",
    "    'https://raw.githubusercontent.com/IBM/claimed/master/component-library/claimed_utils.py'\n",
    ")\n",
    "from claimed_utils import parse_args_to_parameters\n",
    "import os\n",
    "import wget"
   ]
  },
  {
   "cell_type": "code",
   "execution_count": null,
   "id": "fcab9b87",
   "metadata": {
    "papermill": {
     "duration": 0.011926,
     "end_time": "2021-09-03T13:32:04.919252",
     "exception": false,
     "start_time": "2021-09-03T13:32:04.907326",
     "status": "completed"
    },
    "tags": []
   },
   "outputs": [],
   "source": [
    "# path and file name for output\n",
    "output_data_csv = os.environ.get('output_data_csv', 'data.csv')\n",
    "\n",
    "# url of souce\n",
    "url = os.environ.get('url')\n",
    "\n",
    "# temporal data storage for local execution\n",
    "data_dir = os.environ.get('data_dir', '../../data/')\n",
    "\n",
    "parse_args_to_parameters()"
   ]
  },
  {
   "cell_type": "code",
   "execution_count": null,
   "id": "6b3e6235",
   "metadata": {
    "papermill": {
     "duration": 0.333027,
     "end_time": "2021-09-03T13:32:05.259803",
     "exception": false,
     "start_time": "2021-09-03T13:32:04.926776",
     "status": "completed"
    },
    "tags": []
   },
   "outputs": [],
   "source": [
    "destination = os.path.join(data_dir, output_data_csv)\n",
    "wget.download(url, out=destination) "
   ]
  },
  {
   "cell_type": "code",
   "execution_count": null,
   "id": "665247fb",
   "metadata": {
    "papermill": {
     "duration": 0.012328,
     "end_time": "2021-09-03T13:32:05.279309",
     "exception": false,
     "start_time": "2021-09-03T13:32:05.266981",
     "status": "completed"
    },
    "tags": []
   },
   "outputs": [],
   "source": [
    "print('Data written successfully')"
   ]
  }
 ],
 "metadata": {
  "kernelspec": {
   "display_name": "Python 3 (ipykernel)",
   "language": "python",
   "name": "python3"
  },
  "language_info": {
   "codemirror_mode": {
    "name": "ipython",
    "version": 3
   },
   "file_extension": ".py",
   "mimetype": "text/x-python",
   "name": "python",
   "nbconvert_exporter": "python",
   "pygments_lexer": "ipython3",
   "version": "3.8.10"
  },
  "papermill": {
   "default_parameters": {},
   "duration": 4.518227,
   "end_time": "2021-09-03T13:32:05.391722",
   "environment_variables": {},
   "exception": null,
   "input_path": "/home/jovyan/work/claimed/component-library/input/input-url.ipynb",
   "output_path": "/home/jovyan/work/claimed/component-library/input/input-url.ipynb",
   "parameters": {},
   "start_time": "2021-09-03T13:32:00.873495",
   "version": "2.3.3"
  }
 },
 "nbformat": 4,
 "nbformat_minor": 5
}
