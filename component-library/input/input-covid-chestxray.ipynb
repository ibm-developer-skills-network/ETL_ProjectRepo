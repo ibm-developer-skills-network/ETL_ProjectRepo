{
 "cells": [
  {
   "cell_type": "markdown",
   "id": "variable-metallic",
   "metadata": {
    "papermill": {
     "duration": 0.005946,
     "end_time": "2021-03-12T08:31:08.797414",
     "exception": false,
     "start_time": "2021-03-12T08:31:08.791468",
     "status": "completed"
    },
    "tags": []
   },
   "source": [
    "# Pulls image data from covid-chestxray-dataset\n",
    "Pulls image data from https://github.com/ieee8023/covid-chestxray-dataset.git and outputs a zip folder containting the images and a csv file containing the image metadata"
   ]
  },
  {
   "cell_type": "code",
   "execution_count": null,
   "id": "current-correction",
   "metadata": {
    "papermill": {
     "duration": 3.904143,
     "end_time": "2021-03-12T08:31:12.707529",
     "exception": false,
     "start_time": "2021-03-12T08:31:08.803386",
     "status": "completed"
    },
    "tags": []
   },
   "outputs": [],
   "source": [
    "!pip3 install wget==3.2 gitpython==3.1.14 ansible==3.1.0"
   ]
  },
  {
   "cell_type": "code",
   "execution_count": null,
   "id": "amended-reform",
   "metadata": {
    "papermill": {
     "duration": 5.632149,
     "end_time": "2021-03-12T08:31:18.346775",
     "exception": false,
     "start_time": "2021-03-12T08:31:12.714626",
     "status": "completed"
    },
    "tags": []
   },
   "outputs": [],
   "source": [
    "import wget\n",
    "wget.download(\n",
    "    'https://raw.githubusercontent.com/'\n",
    "    'elyra-ai/component-library/master/claimed_utils.py'\n",
    ")"
   ]
  },
  {
   "cell_type": "code",
   "execution_count": null,
   "id": "sought-notebook",
   "metadata": {
    "papermill": {
     "duration": 0.013733,
     "end_time": "2021-03-12T08:31:18.369714",
     "exception": false,
     "start_time": "2021-03-12T08:31:18.355981",
     "status": "completed"
    },
    "tags": []
   },
   "outputs": [],
   "source": [
    "from ansible.module_utils.parsing.convert_bool import boolean\n",
    "from claimed_utils import zipdir\n",
    "import git\n",
    "from io import BytesIO\n",
    "from minio import Minio\n",
    "import os\n",
    "import shutil"
   ]
  },
  {
   "cell_type": "code",
   "execution_count": null,
   "id": "alive-compound",
   "metadata": {
    "papermill": {
     "duration": 0.014288,
     "end_time": "2021-03-12T08:31:18.391435",
     "exception": false,
     "start_time": "2021-03-12T08:31:18.377147",
     "status": "completed"
    },
    "tags": []
   },
   "outputs": [],
   "source": [
    "# @param output_filename\n",
    "# @param metadata_filename\n",
    "# @returns images.zip\n",
    "# @returns metadata.csv"
   ]
  },
  {
   "cell_type": "code",
   "execution_count": null,
   "id": "heavy-seller",
   "metadata": {
    "papermill": {
     "duration": 0.01951,
     "end_time": "2021-03-12T08:31:18.419049",
     "exception": false,
     "start_time": "2021-03-12T08:31:18.399539",
     "status": "completed"
    },
    "tags": []
   },
   "outputs": [],
   "source": [
    "output_filename = os.environ.get('output_filename', 'images.zip')\n",
    "metadata_filename = os.environ.get('metadata_filename', 'metadata.csv')\n",
    "checkpoint = boolean(os.environ.get('checkpoint', False))\n",
    "checkpoint_ip = os.environ.get('checkpoint_ip')\n",
    "checkpoint_user = os.environ.get('checkpoint_user', 'minio')\n",
    "checkpoint_pass = os.environ.get('checkpoint_pass', 'minio123')\n",
    "checkpoint_bucket = os.environ.get('checkpoint_bucket', 'checkpoint')"
   ]
  },
  {
   "cell_type": "code",
   "execution_count": null,
   "id": "adverse-flashing",
   "metadata": {},
   "outputs": [],
   "source": [
    "exists = False\n",
    "\n",
    "if checkpoint:\n",
    "    client = Minio(checkpoint_ip,\n",
    "                   checkpoint_user,\n",
    "                   checkpoint_pass,\n",
    "                   secure=False)\n",
    "\n",
    "    objects = client.list_objects(checkpoint_bucket)\n",
    "    asset_name = output_filename\n",
    "    exists1 = False\n",
    "    for obj in objects:\n",
    "        if asset_name == obj.object_name:\n",
    "            exists1 = True\n",
    "            client.fget_object(checkpoint_bucket, asset_name, asset_name)\n",
    "            break\n",
    "\n",
    "    objects = client.list_objects(checkpoint_bucket)\n",
    "    asset_name = metadata_filename\n",
    "    exists2 = False\n",
    "    for obj in objects:\n",
    "        if asset_name == obj.object_name:\n",
    "            exists2 = True\n",
    "            client.fget_object(checkpoint_bucket, asset_name, asset_name)\n",
    "            break\n",
    "\n",
    "    exists = exists1 and exists"
   ]
  },
  {
   "cell_type": "code",
   "execution_count": null,
   "id": "random-pulse",
   "metadata": {
    "papermill": {
     "duration": 0.94546,
     "end_time": "2021-03-12T08:33:22.364601",
     "exception": false,
     "start_time": "2021-03-12T08:33:21.419141",
     "status": "completed"
    },
    "tags": []
   },
   "outputs": [],
   "source": [
    "if not exists:\n",
    "    git.Git(\".\").clone(\"https://github.com/\"\n",
    "                       \"ieee8023/covid-chestxray-dataset.git\")\n",
    "    shutil.move(\"covid-chestxray-dataset/images\", \".\")\n",
    "    shutil.move(\"covid-chestxray-dataset/metadata.csv\", \".\")\n",
    "    shutil.rmtree('covid-chestxray-dataset')\n",
    "    zipdir('images.zip', 'images')"
   ]
  },
  {
   "cell_type": "code",
   "execution_count": null,
   "id": "tired-vietnamese",
   "metadata": {},
   "outputs": [],
   "source": [
    "if not exists:\n",
    "    size = os.path.getsize(output_filename)\n",
    "    with open(output_filename, 'rb') as fh:\n",
    "        buf = BytesIO(fh.read())\n",
    "        result = client.put_object(\n",
    "            checkpoint_bucket, output_filename, buf, length=size\n",
    "        )\n",
    "\n",
    "    size = os.path.getsize(metadata_filename)\n",
    "    with open(metadata_filename, 'rb') as fh:\n",
    "        buf = BytesIO(fh.read())\n",
    "        result = client.put_object(\n",
    "            checkpoint_bucket, metadata_filename, buf, length=size\n",
    "        )"
   ]
  }
 ],
 "metadata": {
  "kernelspec": {
   "display_name": "Python 3",
   "language": "python",
   "name": "python3"
  },
  "language_info": {
   "codemirror_mode": {
    "name": "ipython",
    "version": 3
   },
   "file_extension": ".py",
   "mimetype": "text/x-python",
   "name": "python",
   "nbconvert_exporter": "python",
   "pygments_lexer": "ipython3",
   "version": "3.8.6"
  },
  "papermill": {
   "default_parameters": {},
   "duration": 154.360301,
   "end_time": "2021-03-12T08:33:42.317507",
   "environment_variables": {},
   "exception": null,
   "input_path": "/home/jovyan/work/examples/pipelines/claimed_covid_ct_trusted_ai/component-library/input/input-covid-chestxray.ipynb",
   "output_path": "/home/jovyan/work/examples/pipelines/claimed_covid_ct_trusted_ai/component-library/input/input-covid-chestxray.ipynb",
   "parameters": {},
   "start_time": "2021-03-12T08:31:07.957206",
   "version": "2.2.2"
  }
 },
 "nbformat": 4,
 "nbformat_minor": 5
}
