{
 "cells": [
  {
   "cell_type": "markdown",
   "id": "228bfca6-72ee-4656-b7c4-7694ab085518",
   "metadata": {},
   "source": [
    "# Pulls Codenet classification data from the ml-exchange.org"
   ]
  },
  {
   "cell_type": "markdown",
   "id": "excess-grass",
   "metadata": {
    "papermill": {
     "duration": 0.022097,
     "end_time": "2021-04-06T15:33:53.837895",
     "exception": false,
     "start_time": "2021-04-06T15:33:53.815798",
     "status": "completed"
    },
    "tags": []
   },
   "source": [
    "Pulls Codenet classification data.zip from the ml-exchange.org in a form ready for text classification in the folowing format:\n",
    "\n",
    "zip_root/data/train/*language_name*/**code_sample_file_id**   \n",
    "zip_root/data/test/*language_nam*/**code_sample_file_id**"
   ]
  },
  {
   "cell_type": "code",
   "execution_count": null,
   "id": "assigned-lottery",
   "metadata": {
    "papermill": {
     "duration": 6.449538,
     "end_time": "2021-04-06T15:34:00.298216",
     "exception": false,
     "start_time": "2021-04-06T15:33:53.848678",
     "status": "completed"
    },
    "tags": []
   },
   "outputs": [],
   "source": [
    "!pip3 install wget==3.2"
   ]
  },
  {
   "cell_type": "code",
   "execution_count": null,
   "id": "impaired-sharing",
   "metadata": {
    "papermill": {
     "duration": 0.270152,
     "end_time": "2021-04-06T15:34:00.631600",
     "exception": false,
     "start_time": "2021-04-06T15:34:00.361448",
     "status": "completed"
    },
    "tags": []
   },
   "outputs": [],
   "source": [
    "import wget\n",
    "import logging\n",
    "import os\n",
    "import re\n",
    "import shutil\n",
    "import sys\n",
    "import tarfile"
   ]
  },
  {
   "cell_type": "code",
   "execution_count": null,
   "id": "local-gather",
   "metadata": {
    "papermill": {
     "duration": 0.023729,
     "end_time": "2021-04-06T15:34:01.510228",
     "exception": false,
     "start_time": "2021-04-06T15:34:01.486499",
     "status": "completed"
    },
    "tags": []
   },
   "outputs": [],
   "source": [
    "# file name for training data zip\n",
    "output_filename = os.environ.get('output_filename', 'data.zip')\n",
    "\n",
    "# temporal data storage for local execution\n",
    "data_dir = os.environ.get('data_dir', '../../data/')"
   ]
  },
  {
   "cell_type": "code",
   "execution_count": null,
   "id": "a1cd43db-f550-4bc9-8353-e73bbf1e39ad",
   "metadata": {},
   "outputs": [],
   "source": [
    "parameters = list(\n",
    "  map(\n",
    "      lambda s: re.sub('$', '\"', s),\n",
    "      map(\n",
    "          lambda s: s.replace('=', '=\"'),\n",
    "          filter(\n",
    "              lambda s: s.find('=') > -1 and bool(re.match('[A-Za-z0-9_]*=[.\\/A-Za-z0-9]*', s)),\n",
    "              sys.argv\n",
    "          )\n",
    "      )\n",
    "  )\n",
    ")\n",
    "\n",
    "for parameter in parameters:\n",
    "    logging.warning('Parameter: '+parameter) \n",
    "    exec(parameter)"
   ]
  },
  {
   "cell_type": "code",
   "execution_count": null,
   "id": "widespread-ghana",
   "metadata": {
    "papermill": {
     "duration": 0.021484,
     "end_time": "2021-04-06T15:34:01.546626",
     "exception": false,
     "start_time": "2021-04-06T15:34:01.525142",
     "status": "completed"
    },
    "tags": []
   },
   "outputs": [],
   "source": [
    "wget.download('https://dax-cdn.cdn.appdomain.cloud/dax-project-codenet/1.0.0/Project_CodeNet_LangClass.tar.gz')"
   ]
  },
  {
   "cell_type": "code",
   "execution_count": null,
   "id": "fa7ef912-14cb-4e97-b288-38c35fbbf5ff",
   "metadata": {},
   "outputs": [],
   "source": [
    "if os.path.exists('data'):\n",
    "    shutil.rmtree('data')"
   ]
  },
  {
   "cell_type": "code",
   "execution_count": null,
   "id": "8e5949af-eeed-46b4-bfe6-e16f0ba52a8d",
   "metadata": {},
   "outputs": [],
   "source": [
    "with tarfile.open('Project_CodeNet_LangClass.tar.gz') as tf:\n",
    "    tf.extractall()"
   ]
  },
  {
   "cell_type": "code",
   "execution_count": null,
   "id": "f366a1f7-3b7b-4366-b39d-8361d7b90e0d",
   "metadata": {},
   "outputs": [],
   "source": [
    "shutil.make_archive(data_dir + output_filename.split('.zip')[0], 'zip', 'data')"
   ]
  }
 ],
 "metadata": {
  "kernelspec": {
   "display_name": "Python 3 (ipykernel)",
   "language": "python",
   "name": "python3"
  },
  "language_info": {
   "codemirror_mode": {
    "name": "ipython",
    "version": 3
   },
   "file_extension": ".py",
   "mimetype": "text/x-python",
   "name": "python",
   "nbconvert_exporter": "python",
   "pygments_lexer": "ipython3",
   "version": "3.8.10"
  },
  "papermill": {
   "default_parameters": {},
   "duration": 17.49536,
   "end_time": "2021-04-06T15:34:10.489088",
   "environment_variables": {},
   "exception": null,
   "input_path": "/home/jovyan/work/examples/pipelines/pairs/component-library/input/input-climate-copernicus.ipynb",
   "output_path": "/home/jovyan/work/examples/pipelines/pairs/component-library/input/input-climate-copernicus.ipynb",
   "parameters": {},
   "start_time": "2021-04-06T15:33:52.993728",
   "version": "2.3.3"
  }
 },
 "nbformat": 4,
 "nbformat_minor": 5
}
